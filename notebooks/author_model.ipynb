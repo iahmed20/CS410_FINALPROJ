{
 "cells": [
  {
   "cell_type": "markdown",
   "id": "a8949bd7",
   "metadata": {},
   "source": [
    "# Install Packages & Data"
   ]
  },
  {
   "cell_type": "markdown",
   "id": "d7bcad30",
   "metadata": {},
   "source": [
    "## We use Python 3.13.1.\n",
    "\n",
    "If you are having dependency conflicts, install python 3.13.1 and select a newly created virtual environment for the Python kernel."
   ]
  },
  {
   "cell_type": "code",
   "execution_count": null,
   "id": "4d1b7e01",
   "metadata": {},
   "outputs": [
    {
     "name": "stdout",
     "output_type": "stream",
     "text": [
      "Requirement already satisfied: numpy in /Users/a/Documents/school/CS410/CS410_FINALPROJ/.venv/lib/python3.13/site-packages (2.2.4)\n",
      "Requirement already satisfied: pandas in /Users/a/Documents/school/CS410/CS410_FINALPROJ/.venv/lib/python3.13/site-packages (2.2.3)\n",
      "Requirement already satisfied: scikit-learn in /Users/a/Documents/school/CS410/CS410_FINALPROJ/.venv/lib/python3.13/site-packages (1.6.1)\n",
      "Requirement already satisfied: seaborn in /Users/a/Documents/school/CS410/CS410_FINALPROJ/.venv/lib/python3.13/site-packages (0.13.2)\n",
      "Requirement already satisfied: matplotlib in /Users/a/Documents/school/CS410/CS410_FINALPROJ/.venv/lib/python3.13/site-packages (3.10.1)\n",
      "Requirement already satisfied: nltk in /Users/a/Documents/school/CS410/CS410_FINALPROJ/.venv/lib/python3.13/site-packages (3.9.1)\n",
      "Requirement already satisfied: python-dateutil>=2.8.2 in /Users/a/Documents/school/CS410/CS410_FINALPROJ/.venv/lib/python3.13/site-packages (from pandas) (2.9.0.post0)\n",
      "Requirement already satisfied: pytz>=2020.1 in /Users/a/Documents/school/CS410/CS410_FINALPROJ/.venv/lib/python3.13/site-packages (from pandas) (2025.2)\n",
      "Requirement already satisfied: tzdata>=2022.7 in /Users/a/Documents/school/CS410/CS410_FINALPROJ/.venv/lib/python3.13/site-packages (from pandas) (2025.2)\n",
      "Requirement already satisfied: scipy>=1.6.0 in /Users/a/Documents/school/CS410/CS410_FINALPROJ/.venv/lib/python3.13/site-packages (from scikit-learn) (1.15.2)\n",
      "Requirement already satisfied: joblib>=1.2.0 in /Users/a/Documents/school/CS410/CS410_FINALPROJ/.venv/lib/python3.13/site-packages (from scikit-learn) (1.5.0)\n",
      "Requirement already satisfied: threadpoolctl>=3.1.0 in /Users/a/Documents/school/CS410/CS410_FINALPROJ/.venv/lib/python3.13/site-packages (from scikit-learn) (3.6.0)\n",
      "Requirement already satisfied: contourpy>=1.0.1 in /Users/a/Documents/school/CS410/CS410_FINALPROJ/.venv/lib/python3.13/site-packages (from matplotlib) (1.3.2)\n",
      "Requirement already satisfied: cycler>=0.10 in /Users/a/Documents/school/CS410/CS410_FINALPROJ/.venv/lib/python3.13/site-packages (from matplotlib) (0.12.1)\n",
      "Requirement already satisfied: fonttools>=4.22.0 in /Users/a/Documents/school/CS410/CS410_FINALPROJ/.venv/lib/python3.13/site-packages (from matplotlib) (4.57.0)\n",
      "Requirement already satisfied: kiwisolver>=1.3.1 in /Users/a/Documents/school/CS410/CS410_FINALPROJ/.venv/lib/python3.13/site-packages (from matplotlib) (1.4.8)\n",
      "Requirement already satisfied: packaging>=20.0 in /Users/a/Documents/school/CS410/CS410_FINALPROJ/.venv/lib/python3.13/site-packages (from matplotlib) (24.2)\n",
      "Requirement already satisfied: pillow>=8 in /Users/a/Documents/school/CS410/CS410_FINALPROJ/.venv/lib/python3.13/site-packages (from matplotlib) (11.2.1)\n",
      "Requirement already satisfied: pyparsing>=2.3.1 in /Users/a/Documents/school/CS410/CS410_FINALPROJ/.venv/lib/python3.13/site-packages (from matplotlib) (3.2.3)\n",
      "Requirement already satisfied: click in /Users/a/Documents/school/CS410/CS410_FINALPROJ/.venv/lib/python3.13/site-packages (from nltk) (8.1.8)\n",
      "Requirement already satisfied: regex>=2021.8.3 in /Users/a/Documents/school/CS410/CS410_FINALPROJ/.venv/lib/python3.13/site-packages (from nltk) (2024.11.6)\n",
      "Requirement already satisfied: tqdm in /Users/a/Documents/school/CS410/CS410_FINALPROJ/.venv/lib/python3.13/site-packages (from nltk) (4.67.1)\n",
      "Requirement already satisfied: six>=1.5 in /Users/a/Documents/school/CS410/CS410_FINALPROJ/.venv/lib/python3.13/site-packages (from python-dateutil>=2.8.2->pandas) (1.17.0)\n",
      "\n",
      "\u001b[1m[\u001b[0m\u001b[34;49mnotice\u001b[0m\u001b[1;39;49m]\u001b[0m\u001b[39;49m A new release of pip is available: \u001b[0m\u001b[31;49m24.3.1\u001b[0m\u001b[39;49m -> \u001b[0m\u001b[32;49m25.1.1\u001b[0m\n",
      "\u001b[1m[\u001b[0m\u001b[34;49mnotice\u001b[0m\u001b[1;39;49m]\u001b[0m\u001b[39;49m To update, run: \u001b[0m\u001b[32;49mpip install --upgrade pip\u001b[0m\n",
      "Note: you may need to restart the kernel to use updated packages.\n"
     ]
    }
   ],
   "source": [
    "%pip install numpy pandas scikit-learn seaborn matplotlib nltk "
   ]
  },
  {
   "cell_type": "code",
   "execution_count": null,
   "id": "6ddef857",
   "metadata": {},
   "outputs": [],
   "source": [
    "# Unpack prepared data\n",
    "import shutil\n",
    "shutil.unpack_archive(\"raw.zip\", \"raw\")"
   ]
  },
  {
   "cell_type": "code",
   "execution_count": 132,
   "id": "d344ce3a",
   "metadata": {},
   "outputs": [],
   "source": [
    "import numpy as np\n",
    "import pandas as pd\n",
    "import os\n",
    "import collections\n",
    "import re"
   ]
  },
  {
   "cell_type": "markdown",
   "id": "c351888b",
   "metadata": {},
   "source": [
    "# Burrows Delta Model"
   ]
  },
  {
   "cell_type": "markdown",
   "id": "3b13aedb",
   "metadata": {},
   "source": [
    "### The web scraper, data preprocessing, and model training takes several hours to run to completion. We provide this streamlined notebook for the grader to train & run a small version of our model."
   ]
  },
  {
   "cell_type": "code",
   "execution_count": 3,
   "id": "d7831fb1",
   "metadata": {},
   "outputs": [],
   "source": [
    "class BurrowsDelta():\n",
    "    def __init__(self, N, normalize = None):\n",
    "        # number words in feature vocab \n",
    "        self.N = N\n",
    "        # simple token preprocessing function to investigate effectiveness of fast to compute heursistics \n",
    "        if normalize is not None:\n",
    "            self.normalize = normalize\n",
    "\n",
    "    # stream tokens of a book from a src file using a generator\n",
    "    def stream_book(self, src):\n",
    "        with open(src, \"r\") as f:\n",
    "            for l in f:\n",
    "                for t in l.split():\n",
    "                    yield t\n",
    "    \n",
    "    # if the book's text is already loaded in memory we can just return the tokens with a generator\n",
    "    def load_book(self, src):\n",
    "        for t in src.split():\n",
    "            yield t\n",
    "    \n",
    "    # helper function to decide whether to stream or load\n",
    "    def read_book(self, src):\n",
    "        if os.path.isfile(src):\n",
    "            return self.stream_book(src)\n",
    "        return self.load_book(src)\n",
    "\n",
    "    # fit the burrows delta to the record's dataframe  \n",
    "    def fit(self, records):\n",
    "        # create copy of records to prevent propogation of mutations\n",
    "        X = records \\\n",
    "            .copy() \\\n",
    "            .reset_index(drop = True)\n",
    "\n",
    "        # count the frequency of words at the collection and per document leevel.\n",
    "        C = collections.Counter()\n",
    "        DF = {}\n",
    "        for r in X.itertuples(index = False):\n",
    "            c = collections.Counter()\n",
    "            for t in self.read_book(r.src):\n",
    "                t = self.normalize(t)\n",
    "                c[t] += 1\n",
    "                C[t] += 1\n",
    "            DF[r.id] = c\n",
    "        \n",
    "        # select feature vocab as N most frequent words in collection\n",
    "        self.F = [ w for w, _ in C.most_common(self.N) ]\n",
    "        \n",
    "        # compute the document feature vectors\n",
    "        DV = []\n",
    "        for r in X.itertuples(index = False):\n",
    "            c = DF[r.id]\n",
    "            dv = np.array([ c[w] for w in self.F ]) / c.total()\n",
    "            DV.append(dv)\n",
    "        X[\"dv\"] = DV\n",
    "        # compute the mean's and standard deviations of the document features, stacked as a matrix\n",
    "        FM = np.stack(DV)\n",
    "        self.m = FM.mean(axis = 0)\n",
    "        self.s = FM.std(axis = 0, ddof = 1)\n",
    "        # compute the z-transform of the document vectors.\n",
    "        X[\"z\"] = X.dv.apply(self.Z)\n",
    "\n",
    "        # compute the author centroids stacked as a matirx\n",
    "        self.A = X.groupby(\"author\").z.mean()\n",
    "        self.AM = np.stack(self.A)\n",
    "\n",
    "    # Z-transform for measuring shapes of distributions\n",
    "    def Z(self, x):\n",
    "        return (x - self.m) / self.s\n",
    "    \n",
    "    # compute feature vector for new text\n",
    "    def fv(self, text):\n",
    "        c = collections.Counter(text.split())\n",
    "        return np.array([ c[w] for w in self.F ]) / c.total()\n",
    "\n",
    "    # default burrow's metric\n",
    "    def burrows(self, fv):\n",
    "        z = self.Z(fv)\n",
    "        return np.abs(self.AM - z).mean(axis = 1)\n",
    "\n",
    "    # make a prediction by taking the author with the minimum delta metric to a text \n",
    "    def predict(self, text, delta = None):\n",
    "        if delta is None:\n",
    "            delta = self.burrows\n",
    "        fv = self.fv(text)\n",
    "        D = delta(fv)\n",
    "        idx = np.argmin(D)\n",
    "        return self.A.index[idx]"
   ]
  },
  {
   "cell_type": "code",
   "execution_count": null,
   "id": "fbcd49d7",
   "metadata": {},
   "outputs": [],
   "source": [
    "PROJECT_DIR = os.path.dirname(os.path.abspath(\"\"))\n",
    "DATA_DIR = os.path.join(PROJECT_DIR, \"data\")\n",
    "\n",
    "def record_book_path(r):\n",
    "    return os.path.join(\"raw\", f\"{r[\"author\"]}_{r[\"id\"]}.txt\")\n",
    "\n",
    "# load records and add column for file source to stream text\n",
    "records = pd.read_csv(os.path.join(DATA_DIR, \"records.csv\"), on_bad_lines = \"warn\")\n",
    "records[\"src\"] = records.apply(record_book_path, axis = 1)"
   ]
  },
  {
   "cell_type": "markdown",
   "id": "a8a0660d",
   "metadata": {},
   "source": [
    "## Our final report explains why no preprocessing in used here--in short it turns out model performance is negatively affected by preprocessing because it removes properties of linguistic style, e.g. casing.\n",
    "\n",
    "## The streamlined notebook uses a small feature set to show the robustness of the overall model formulation."
   ]
  },
  {
   "cell_type": "code",
   "execution_count": null,
   "id": "b9ce8fc4",
   "metadata": {},
   "outputs": [],
   "source": [
    "# hyper parameters\n",
    "NUM_FEATURES = 500 # try 30,000\n",
    "TRAIN_SPLIT_PROPORTION = .9\n",
    "\n",
    "# test train split\n",
    "X = records.sample(frac = TRAIN_SPLIT_PROPORTION)\n",
    "y = records.drop(X.index)\n",
    "\n",
    "# fit model on raw unprocessed book texts\n",
    "model = BurrowsDelta(N = NUM_FEATURES)\n",
    "model.fit(X)"
   ]
  },
  {
   "cell_type": "code",
   "execution_count": null,
   "id": "84d54233",
   "metadata": {},
   "outputs": [],
   "source": [
    "# helper function testing model performance under a delta function\n",
    "def evaluate_accuracy(model, test, delta = None):\n",
    "    correct = 0\n",
    "    for r in test.itertuples(index = False):\n",
    "        with open(r.src, \"r\") as f:\n",
    "            pred = model.predict(f.read(), delta)\n",
    "        correct += r.author == pred\n",
    "    return correct / len(test)\n",
    "\n",
    "# procedure to evaluate a model accuracy under different metric functions\n",
    "def testing_procedure(model, test):\n",
    "    def cosine_delta(fv):\n",
    "        z = model.Z(fv)\n",
    "        return 1 - model.AM.dot(z) / (np.linalg.norm(model.AM, axis = 1) * np.linalg.norm(z))\n",
    "\n",
    "    deltas = [\n",
    "        model.burrows, # default  \n",
    "        cosine_delta \n",
    "    ]\n",
    "\n",
    "    print(f\"{\"random chance: \":<30} accuracy = {1 / len(model.A):.4f}\")\n",
    "\n",
    "    for delta in deltas:\n",
    "        name = delta.__name__\n",
    "        accuracy = evaluate_accuracy(model, test, delta)\n",
    "        print(f\"{name:<30} accuracy =  {accuracy:.4f}\")"
   ]
  },
  {
   "cell_type": "code",
   "execution_count": null,
   "id": "239b4fb4",
   "metadata": {},
   "outputs": [],
   "source": [
    "# evaluate the model accuracy\n",
    "testing_procedure(model, y)"
   ]
  },
  {
   "cell_type": "code",
   "execution_count": null,
   "id": "3a77ff81",
   "metadata": {},
   "outputs": [],
   "source": [
    "# investigate the feature count hyperparameter for the standard burrows\n",
    "for n in range(10, 510 + 1, 50):\n",
    "    model = BurrowsDelta(N = n)\n",
    "    model.fit(X)\n",
    "    accuracy = evaluate_accuracy(model, y)\n",
    "    print(f\"N = {n}, accuracy = {accuracy:.4f}\")"
   ]
  },
  {
   "cell_type": "code",
   "execution_count": null,
   "id": "da2c9313",
   "metadata": {},
   "outputs": [],
   "source": []
  }
 ],
 "metadata": {
  "kernelspec": {
   "display_name": ".venv",
   "language": "python",
   "name": "python3"
  },
  "language_info": {
   "codemirror_mode": {
    "name": "ipython",
    "version": 3
   },
   "file_extension": ".py",
   "mimetype": "text/x-python",
   "name": "python",
   "nbconvert_exporter": "python",
   "pygments_lexer": "ipython3",
   "version": "3.13.1"
  }
 },
 "nbformat": 4,
 "nbformat_minor": 5
}
